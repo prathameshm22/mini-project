{
  "nbformat": 4,
  "nbformat_minor": 0,
  "metadata": {
    "colab": {
      "provenance": []
    },
    "kernelspec": {
      "name": "python3",
      "display_name": "Python 3"
    },
    "language_info": {
      "name": "python"
    }
  },
  "cells": [
    {
      "cell_type": "markdown",
      "source": [
        "## 1. 10 bottom observations and column names with their types of data."
      ],
      "metadata": {
        "id": "uQ_140cZWudC"
      }
    },
    {
      "cell_type": "code",
      "execution_count": 4,
      "metadata": {
        "colab": {
          "base_uri": "https://localhost:8080/"
        },
        "id": "rs3U2TBVV0rF",
        "outputId": "7ab2d861-0d5f-4bb3-b097-99bcbddd5527"
      },
      "outputs": [
        {
          "output_type": "stream",
          "name": "stdout",
          "text": [
            "Name      object\n",
            "Age        int64\n",
            "Gender    object\n",
            "Salary     int64\n",
            "dtype: object\n",
            "      Name  Age Gender  Salary\n",
            "0     neha   28      F   45000\n",
            "1    Bipul   35      M   62000\n",
            "2     yash   21      M   34000\n",
            "3      Dev   42      M   79000\n",
            "4     Esha   29      F   54000\n",
            "5    harsh   36      M   69000\n",
            "6   nikita   24      F   41000\n",
            "7  Harshal   27      M   48000\n",
            "8     ekta   31      F   57000\n",
            "9   pratik   38      M   63000\n"
          ]
        }
      ],
      "source": [
        "import pandas as pd\n",
        "\n",
        "# Create example dataframe\n",
        "data = {\n",
        "    'Name': ['neha', 'Bipul', 'yash', 'Dev', 'Esha', 'harsh', 'nikita', 'Harshal', 'ekta', 'pratik'],\n",
        "    'Age': [28, 35, 21, 42, 29, 36, 24, 27, 31, 38],\n",
        "    'Gender': ['F', 'M', 'M', 'M', 'F', 'M', 'F', 'M', 'F', 'M'],\n",
        "    'Salary': [45000, 62000, 34000, 79000, 54000, 69000, 41000, 48000, 57000, 63000]\n",
        "}\n",
        "df = pd.DataFrame(data)\n",
        "\n",
        "# Display bottom 10 observations and column names with data types\n",
        "print(df.tail(10).dtypes)\n",
        "print(df.tail(10))\n"
      ]
    },
    {
      "cell_type": "markdown",
      "source": [
        "## 2. Take any three features/columns with categorical data and show frequency visualization for them."
      ],
      "metadata": {
        "id": "GZ9b_3LDZVDP"
      }
    },
    {
      "cell_type": "code",
      "source": [
        "import matplotlib as plt \n",
        "import seaborn as sns\n",
        "\n",
        "\n",
        "# Load the tips dataset\n",
        "tips = sns.load_dataset(\"tips\")\n",
        "\n",
        "# Create a countplot for day column\n",
        "sns.countplot(x=\"day\", data=tips)\n",
        "\n",
        "# Create a countplot for sex column\n",
        "sns.countplot(x=\"sex\", data=tips)\n",
        "\n",
        "# Create a countplot for smoker column\n",
        "sns.countplot(x=\"smoker\", data=tips)\n",
        "\n",
        "\n"
      ],
      "metadata": {
        "colab": {
          "base_uri": "https://localhost:8080/",
          "height": 296
        },
        "id": "hah2tWuyWDMy",
        "outputId": "3c36180f-5fe6-4376-e555-2b6c0954d7dc"
      },
      "execution_count": 33,
      "outputs": [
        {
          "output_type": "execute_result",
          "data": {
            "text/plain": [
              "<AxesSubplot:xlabel='smoker', ylabel='count'>"
            ]
          },
          "metadata": {},
          "execution_count": 33
        },
        {
          "output_type": "display_data",
          "data": {
            "text/plain": [
              "<Figure size 432x288 with 1 Axes>"
            ],
            "image/png": "[encoded data removed]"
          },
          "metadata": {
            "needs_background": "light"
          }
        }
      ]
    },
    {
      "cell_type": "markdown",
      "source": [
        "## 3. Write a code to show - which store type sells the maximum product by value and by quantity."
      ],
      "metadata": {
        "id": "juu-QPRsZX1U"
      }
    },
    {
      "cell_type": "code",
      "source": [
        "import pandas as pd\n",
        "\n",
        "# read sales data from a csv file\n",
        "sales_data = pd.read_csv('data_eduonix.csv')\n",
        "\n",
        "# group sales data by store type and aggregate by sum\n",
        "sales_by_store_type = sales_data.groupby('Store_type').agg({'Qty': 'sum', 'total_amt': 'sum'})\n",
        "\n",
        "# find store type with maximum quantity sold\n",
        "max_qty_store_type = sales_by_store_type['Qty'].idxmax()\n",
        "\n",
        "# find store type with maximum value sold\n",
        "max_value_store_type = sales_by_store_type['total_amt'].idxmax()\n",
        "\n",
        "print('Store type with maximum quantity sold:', max_qty_store_type)\n",
        "print('Store type with maximum value sold:', max_value_store_type)\n"
      ],
      "metadata": {
        "colab": {
          "base_uri": "https://localhost:8080/"
        },
        "id": "MuaMi11gYhIF",
        "outputId": "effce0a5-8c2b-4154-d792-4b6e667310a2"
      },
      "execution_count": 20,
      "outputs": [
        {
          "output_type": "stream",
          "name": "stdout",
          "text": [
            "Store type with maximum quantity sold: e-Shop\n",
            "Store type with maximum value sold: e-Shop\n"
          ]
        }
      ]
    },
    {
      "cell_type": "markdown",
      "source": [
        "## 4. Write a code to show - what was the total amount earned from male customers under the electronics category."
      ],
      "metadata": {
        "id": "5nt4JfT-f3Tz"
      }
    },
    {
      "cell_type": "code",
      "source": [
        "import pandas as pd\n",
        "\n",
        "# Sample data\n",
        "data = {'Customer ID': ['C001', 'C002', 'C003', 'C004', 'C005'],\n",
        "        'Gender': ['M', 'M', 'F', 'M', 'F'],\n",
        "        'Category': ['Electronics', 'Clothing', 'Electronics', 'Electronics', 'Grocery'],\n",
        "        'Amount': [5000, 2000, 7000, 8000, 3000]}\n",
        "\n",
        "# Create a DataFrame\n",
        "df = pd.DataFrame(data)\n",
        "\n",
        "# Filter the data for male customers and electronics category\n",
        "male_electronics = df[(df['Gender'] == 'M') & (df['Category'] == 'Electronics')]\n",
        "\n",
        "# Calculate the total amount earned\n",
        "total_earned = male_electronics['Amount'].sum()\n",
        "\n",
        "print(f\"The total amount earned from male customers under the electronics category is: {total_earned}\")\n"
      ],
      "metadata": {
        "colab": {
          "base_uri": "https://localhost:8080/"
        },
        "id": "sIkZKGL2Zo47",
        "outputId": "a946097a-351a-4fbe-ec88-80101f80e91d"
      },
      "execution_count": 29,
      "outputs": [
        {
          "output_type": "stream",
          "name": "stdout",
          "text": [
            "The total amount earned from male customers under the electronics category is: 13000\n"
          ]
        }
      ]
    },
    {
      "cell_type": "markdown",
      "source": [
        "## 5. Create a new \"age\" column with the  help of Date of Birth."
      ],
      "metadata": {
        "id": "KQW3y2epfP0n"
      }
    },
    {
      "cell_type": "code",
      "source": [
        "import pandas as pd\n",
        "import datetime\n",
        "\n",
        "# load the dataset\n",
        "df = pd.read_csv(\"data_eduonix.csv\")\n",
        "\n",
        "# convert the 'Date of Birth(DOB)' column to datetime format\n",
        "df['DOB'] = pd.to_datetime(df['DOB'])\n",
        "\n",
        "# calculate the age based on the current date\n",
        "current_date = datetime.datetime.now()\n",
        "df['age'] = (current_date - df['DOB']).astype('<m8[Y]')\n",
        "\n",
        "# print the updated dataframe\n",
        "print(df.head())\n"
      ],
      "metadata": {
        "colab": {
          "base_uri": "https://localhost:8080/"
        },
        "id": "ljBcwk-zeZuh",
        "outputId": "1612cc36-c4a9-4942-9a4c-32e334c3ad9c"
      },
      "execution_count": 32,
      "outputs": [
        {
          "output_type": "stream",
          "name": "stdout",
          "text": [
            "   Unnamed: 0  customer_Id        DOB Gender  city_code  transaction_id  \\\n",
            "0           0       268408 2070-02-01      M        4.0     87243835584   \n",
            "1           1       268408 2070-02-01      M        4.0     87243835584   \n",
            "2           2       268408 2070-02-01      M        4.0     87243835584   \n",
            "3           3       268408 2070-02-01      M        4.0     87243835584   \n",
            "4           4       268408 2070-02-01      M        4.0     87243835584   \n",
            "\n",
            "   cust_id   tran_date  prod_subcat_code  prod_cat_code  Qty  Rate     Tax  \\\n",
            "0   268408  13-01-2014                 7              5    5   187  98.175   \n",
            "1   268408  13-01-2014                 7              5    5   187  98.175   \n",
            "2   268408  13-01-2014                 7              5    5   187  98.175   \n",
            "3   268408  13-01-2014                 7              5    5   187  98.175   \n",
            "4   268408  13-01-2014                 7              5    5   187  98.175   \n",
            "\n",
            "   total_amt Store_type _merge prod_cat  prod_sub_cat_code  prod_subcat   age  \n",
            "0   1033.175   TeleShop   both    Books                  7      Fiction -47.0  \n",
            "1   1033.175   TeleShop   both    Books                 12     Academic -47.0  \n",
            "2   1033.175   TeleShop   both    Books                 10  Non-Fiction -47.0  \n",
            "3   1033.175   TeleShop   both    Books                 11     Children -47.0  \n",
            "4   1033.175   TeleShop   both    Books                  3       Comics -47.0  \n"
          ]
        }
      ]
    },
    {
      "cell_type": "code",
      "source": [],
      "metadata": {
        "id": "xNDUkROlet4C"
      },
      "execution_count": null,
      "outputs": []
    }
  ]
}